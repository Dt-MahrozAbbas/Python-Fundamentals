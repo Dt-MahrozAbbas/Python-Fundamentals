{
 "cells": [
  {
   "cell_type": "code",
   "execution_count": 2,
   "metadata": {},
   "outputs": [
    {
     "name": "stdout",
     "output_type": "stream",
     "text": [
      "Name: Ali, Age: 22, Student: True, GPA: 3.75\n"
     ]
    }
   ],
   "source": [
    "# Variables store data in memory\n",
    "name = \"Ali\"\n",
    "age = 22\n",
    "is_student = True\n",
    "gpa = 3.75\n",
    "\n",
    "print(f\"Name: {name}, Age: {age}, Student: {is_student}, GPA: {gpa}\")\n"
   ]
  },
  {
   "cell_type": "code",
   "execution_count": 3,
   "metadata": {},
   "outputs": [
    {
     "name": "stdout",
     "output_type": "stream",
     "text": [
      "Very Good\n"
     ]
    }
   ],
   "source": [
    "# Selection structure to classify GPA\n",
    "gpa = 3.2\n",
    "\n",
    "if gpa >= 3.5:\n",
    "    print(\"Excellent\")\n",
    "elif gpa >= 3.0:\n",
    "    if gpa >= 3.2:\n",
    "        print(\"Very Good\")\n",
    "    else:\n",
    "        print(\"Good\")\n",
    "else:\n",
    "    print(\"Needs Improvement\")\n"
   ]
  },
  {
   "cell_type": "code",
   "execution_count": 4,
   "metadata": {},
   "outputs": [
    {
     "name": "stdout",
     "output_type": "stream",
     "text": [
      "Counting: 0\n",
      "Counting: 1\n",
      "Counting: 2\n",
      "Counting: 3\n",
      "Counting: 4\n",
      "Finished counting!\n",
      "x = 0\n",
      "x = 1\n",
      "x = 2\n"
     ]
    }
   ],
   "source": [
    "# For loop with else\n",
    "for i in range(5):\n",
    "    print(\"Counting:\", i)\n",
    "else:\n",
    "    print(\"Finished counting!\")\n",
    "\n",
    "# While loop with break\n",
    "x = 0\n",
    "while x < 5:\n",
    "    if x == 3:\n",
    "        break\n",
    "    print(\"x =\", x)\n",
    "    x += 1\n"
   ]
  },
  {
   "cell_type": "code",
   "execution_count": 5,
   "metadata": {},
   "outputs": [
    {
     "name": "stdout",
     "output_type": "stream",
     "text": [
      "Hello Ali, age 22, from Karachi!\n",
      "Hello Sara, age 18, from Lahore!\n",
      "Hello Hamza, age 25, from Islamabad!\n"
     ]
    }
   ],
   "source": [
    "# Function with positional, keyword, and default arguments\n",
    "def greet(name, age=18, city=\"Lahore\"):\n",
    "    print(f\"Hello {name}, age {age}, from {city}!\")\n",
    "\n",
    "# Positional\n",
    "greet(\"Ali\", 22, \"Karachi\")\n",
    "\n",
    "# Positional + default\n",
    "greet(\"Sara\")\n",
    "\n",
    "# Keyword arguments\n",
    "greet(age=25, name=\"Hamza\", city=\"Islamabad\")\n"
   ]
  },
  {
   "cell_type": "code",
   "execution_count": 6,
   "metadata": {},
   "outputs": [
    {
     "name": "stdout",
     "output_type": "stream",
     "text": [
      "3\n",
      "6\n",
      "100\n"
     ]
    }
   ],
   "source": [
    "# Python doesn't support traditional function overloading; use *args instead\n",
    "def add(*args):\n",
    "    return sum(args)\n",
    "\n",
    "print(add(1, 2))\n",
    "print(add(1, 2, 3))\n",
    "print(add(10, 20, 30, 40))\n"
   ]
  },
  {
   "cell_type": "code",
   "execution_count": 7,
   "metadata": {},
   "outputs": [
    {
     "name": "stdout",
     "output_type": "stream",
     "text": [
      "Sum: (4, 6)\n"
     ]
    }
   ],
   "source": [
    "# Custom class with operator overloading\n",
    "class Point:\n",
    "    def __init__(self, x, y):\n",
    "        self.x = x\n",
    "        self.y = y\n",
    "\n",
    "    def __add__(self, other):\n",
    "        return Point(self.x + other.x, self.y + other.y)\n",
    "\n",
    "    def __str__(self):\n",
    "        return f\"({self.x}, {self.y})\"\n",
    "\n",
    "p1 = Point(1, 2)\n",
    "p2 = Point(3, 4)\n",
    "print(\"Sum:\", p1 + p2)\n"
   ]
  },
  {
   "cell_type": "code",
   "execution_count": 8,
   "metadata": {},
   "outputs": [
    {
     "name": "stdout",
     "output_type": "stream",
     "text": [
      "Squares: [1, 4, 9, 16]\n"
     ]
    }
   ],
   "source": [
    "# Using map to square numbers\n",
    "nums = [1, 2, 3, 4]\n",
    "squares = list(map(lambda x: x**2, nums))\n",
    "print(\"Squares:\", squares)\n"
   ]
  },
  {
   "cell_type": "code",
   "execution_count": 9,
   "metadata": {},
   "outputs": [
    {
     "name": "stdout",
     "output_type": "stream",
     "text": [
      "Paired List: [('Ali', 85), ('Sara', 90), ('Hamza', 88)]\n"
     ]
    }
   ],
   "source": [
    "# Using zip to pair names and scores\n",
    "names = [\"Ali\", \"Sara\", \"Hamza\"]\n",
    "scores = [85, 90, 88]\n",
    "\n",
    "paired = list(zip(names, scores))\n",
    "print(\"Paired List:\", paired)\n"
   ]
  },
  {
   "cell_type": "code",
   "execution_count": 10,
   "metadata": {},
   "outputs": [
    {
     "name": "stdout",
     "output_type": "stream",
     "text": [
      "Even Numbers: [2, 4, 6]\n"
     ]
    }
   ],
   "source": [
    "# Filter even numbers from a list\n",
    "nums = [1, 2, 3, 4, 5, 6]\n",
    "even = list(filter(lambda x: x % 2 == 0, nums))\n",
    "print(\"Even Numbers:\", even)\n"
   ]
  },
  {
   "cell_type": "code",
   "execution_count": 11,
   "metadata": {},
   "outputs": [
    {
     "name": "stdout",
     "output_type": "stream",
     "text": [
      "Squares: [0, 1, 4, 9, 16, 25, 36, 49, 64, 81]\n"
     ]
    }
   ],
   "source": [
    "# Create a list of squares using list comprehension\n",
    "squares = [x**2 for x in range(10)]\n",
    "print(\"Squares:\", squares)\n"
   ]
  },
  {
   "cell_type": "code",
   "execution_count": 12,
   "metadata": {},
   "outputs": [
    {
     "name": "stdout",
     "output_type": "stream",
     "text": [
      "You can't divide by zero!\n"
     ]
    }
   ],
   "source": [
    "try:\n",
    "    num = int(input(\"Enter a number: \"))\n",
    "    print(\"100 divided by\", num, \"is\", 100 / num)\n",
    "except ValueError:\n",
    "    print(\"Invalid input! Please enter a number.\")\n",
    "except ZeroDivisionError:\n",
    "    print(\"You can't divide by zero!\")\n"
   ]
  },
  {
   "cell_type": "code",
   "execution_count": 13,
   "metadata": {},
   "outputs": [
    {
     "name": "stdout",
     "output_type": "stream",
     "text": [
      "Multiply 4 and 5: 20\n"
     ]
    }
   ],
   "source": [
    "# Lambda to multiply numbers\n",
    "multiply = lambda x, y: x * y\n",
    "print(\"Multiply 4 and 5:\", multiply(4, 5))\n"
   ]
  }
 ],
 "metadata": {
  "kernelspec": {
   "display_name": "Python 3",
   "language": "python",
   "name": "python3"
  },
  "language_info": {
   "codemirror_mode": {
    "name": "ipython",
    "version": 3
   },
   "file_extension": ".py",
   "mimetype": "text/x-python",
   "name": "python",
   "nbconvert_exporter": "python",
   "pygments_lexer": "ipython3",
   "version": "3.12.7"
  }
 },
 "nbformat": 4,
 "nbformat_minor": 2
}
