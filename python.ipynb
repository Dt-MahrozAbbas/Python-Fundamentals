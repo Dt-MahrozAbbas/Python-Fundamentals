{
 "cells": [
  {
   "cell_type": "code",
   "execution_count": 1,
   "metadata": {},
   "outputs": [
    {
     "name": "stdout",
     "output_type": "stream",
     "text": [
      "Name: Ali, Age: 22, Student: True, GPA: 3.75\n"
     ]
    }
   ],
   "source": [
    "# Variables store data in memory\n",
    "name = \"Ali\"\n",
    "age = 22\n",
    "is_student = True\n",
    "gpa = 3.75\n",
    "\n",
    "print(f\"Name: {name}, Age: {age}, Student: {is_student}, GPA: {gpa}\")\n"
   ]
  },
  {
   "cell_type": "code",
   "execution_count": null,
   "metadata": {},
   "outputs": [],
   "source": []
  }
 ],
 "metadata": {
  "kernelspec": {
   "display_name": "Python 3",
   "language": "python",
   "name": "python3"
  },
  "language_info": {
   "codemirror_mode": {
    "name": "ipython",
    "version": 3
   },
   "file_extension": ".py",
   "mimetype": "text/x-python",
   "name": "python",
   "nbconvert_exporter": "python",
   "pygments_lexer": "ipython3",
   "version": "3.12.7"
  }
 },
 "nbformat": 4,
 "nbformat_minor": 2
}
